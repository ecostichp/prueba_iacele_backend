{
 "cells": [
  {
   "cell_type": "code",
   "execution_count": null,
   "metadata": {},
   "outputs": [],
   "source": [
    "from sqlalchemy import create_engine\n",
    "from dbConnect import dbConfig\n",
    "import pandas as pd\n",
    "import urllib\n",
    "\n",
    "\n",
    "def wep ():\n",
    "    lic= urllib.parse.quote_plus(dbConfig['password'])\n",
    "    db = f\"postgresql+psycopg2://{dbConfig['user']}:{lic}@{dbConfig['host']}/{dbConfig['database']}\"\n",
    "\n",
    "    try:\n",
    "        engine = create_engine(db)\n",
    "        df = pd.read_sql('select * from users;', engine)\n",
    "        return df\n",
    "    \n",
    "    except Exception as err:\n",
    "        print(err)\n",
    "    \n",
    "    finally:\n",
    "        engine.dispose()\n",
    "\n",
    "df = wep()\n",
    "df"
   ]
  }
 ],
 "metadata": {
  "kernelspec": {
   "display_name": "env_prueba_iacele",
   "language": "python",
   "name": "python3"
  },
  "language_info": {
   "codemirror_mode": {
    "name": "ipython",
    "version": 3
   },
   "file_extension": ".py",
   "mimetype": "text/x-python",
   "name": "python",
   "nbconvert_exporter": "python",
   "pygments_lexer": "ipython3",
   "version": "3.11.3"
  },
  "orig_nbformat": 4
 },
 "nbformat": 4,
 "nbformat_minor": 2
}
