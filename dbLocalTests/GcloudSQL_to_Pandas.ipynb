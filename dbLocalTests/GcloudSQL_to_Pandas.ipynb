{
 "cells": [
  {
   "cell_type": "code",
   "execution_count": null,
   "metadata": {},
   "outputs": [],
   "source": [
    "from sqlalchemy import create_engine\n",
    "from dbConnect import dbConfigLocal\n",
    "import pandas as pd\n",
    "from urllib.parse import quote_plus\n",
    "\n",
    "def wep ():\n",
    "    password = quote_plus(dbConfigLocal['password'])\n",
    "    dbURL = f\"postgresql+psycopg2://{dbConfigLocal['user']}:{password}@{dbConfigLocal['host']}/{dbConfigLocal['database']}\"\n",
    "\n",
    "    try:\n",
    "        engine = create_engine(dbURL)\n",
    "        query = \"\"\"SELECT * FROM users;\"\"\"\n",
    "        df = pd.read_sql(query, engine)\n",
    "        return df\n",
    "    \n",
    "    except Exception as err:\n",
    "        print('\\n>>> ¡Hubo un error con la conexión!:')\n",
    "        print(err)\n",
    "    \n",
    "    finally:\n",
    "        engine.dispose()\n",
    "\n",
    "df = wep()\n",
    "df"
   ]
  }
 ],
 "metadata": {
  "kernelspec": {
   "display_name": "env_prueba_iacele",
   "language": "python",
   "name": "python3"
  },
  "language_info": {
   "codemirror_mode": {
    "name": "ipython",
    "version": 3
   },
   "file_extension": ".py",
   "mimetype": "text/x-python",
   "name": "python",
   "nbconvert_exporter": "python",
   "pygments_lexer": "ipython3",
   "version": "3.11.3"
  },
  "orig_nbformat": 4
 },
 "nbformat": 4,
 "nbformat_minor": 2
}
