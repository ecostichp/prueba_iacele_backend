{
 "cells": [
  {
   "cell_type": "code",
   "execution_count": 3,
   "metadata": {},
   "outputs": [
    {
     "name": "stdout",
     "output_type": "stream",
     "text": [
      "\n",
      ">>> ¡Hubo un error con la conexión!:\n",
      "(psycopg2.errors.ActiveSqlTransaction) DROP DATABASE cannot run inside a transaction block\n",
      "\n",
      "[SQL: drop database usuarios;]\n",
      "(Background on this error at: https://sqlalche.me/e/20/2j85)\n"
     ]
    }
   ],
   "source": [
    "from sqlalchemy import create_engine\n",
    "from dbConnect import dbConfigLocal\n",
    "import pandas as pd\n",
    "from urllib.parse import quote_plus\n",
    "\n",
    "password = quote_plus(dbConfigLocal['password'])\n",
    "dbURL = f\"postgresql+psycopg2://{dbConfigLocal['user']}:{password}@{dbConfigLocal['host']}/{dbConfigLocal['database']}\"\n",
    "\n",
    "\n",
    "def wep():\n",
    "\n",
    "    try:\n",
    "        engine = create_engine(dbURL)\n",
    "        query = \"\"\"SELECT * FROM usuarios;\"\"\"\n",
    "        df = pd.read_sql(query, engine)\n",
    "        return df\n",
    "\n",
    "    except Exception as err:\n",
    "        print('\\n>>> ¡Hubo un error con la conexión!:')\n",
    "        print(err)\n",
    "\n",
    "    finally:\n",
    "        engine.dispose()\n",
    "\n",
    "\n",
    "df = wep()\n",
    "df"
   ]
  },
  {
   "cell_type": "code",
   "execution_count": 4,
   "metadata": {},
   "outputs": [
    {
     "data": {
      "text/html": [
       "<div>\n",
       "<style scoped>\n",
       "    .dataframe tbody tr th:only-of-type {\n",
       "        vertical-align: middle;\n",
       "    }\n",
       "\n",
       "    .dataframe tbody tr th {\n",
       "        vertical-align: top;\n",
       "    }\n",
       "\n",
       "    .dataframe thead th {\n",
       "        text-align: right;\n",
       "    }\n",
       "</style>\n",
       "<table border=\"1\" class=\"dataframe\">\n",
       "  <thead>\n",
       "    <tr style=\"text-align: right;\">\n",
       "      <th></th>\n",
       "      <th>id</th>\n",
       "      <th>usuario</th>\n",
       "      <th>estatus</th>\n",
       "      <th>nombre_1ro</th>\n",
       "      <th>nombre_2do</th>\n",
       "      <th>apellido_paterno</th>\n",
       "      <th>apellido_materno</th>\n",
       "      <th>almacen</th>\n",
       "      <th>fecha_nacimiento</th>\n",
       "      <th>fecha_alta</th>\n",
       "      <th>avatar</th>\n",
       "    </tr>\n",
       "  </thead>\n",
       "  <tbody>\n",
       "    <tr>\n",
       "      <th>0</th>\n",
       "      <td>1</td>\n",
       "      <td>Lic</td>\n",
       "      <td>True</td>\n",
       "      <td>Emilio</td>\n",
       "      <td>None</td>\n",
       "      <td>Costich</td>\n",
       "      <td>Pérez</td>\n",
       "      <td>0</td>\n",
       "      <td>1987-05-01</td>\n",
       "      <td>2023-11-13 22:40:42.025832</td>\n",
       "      <td>lic</td>\n",
       "    </tr>\n",
       "  </tbody>\n",
       "</table>\n",
       "</div>"
      ],
      "text/plain": [
       "   id usuario  estatus nombre_1ro nombre_2do apellido_paterno  \\\n",
       "0   1     Lic     True     Emilio       None          Costich   \n",
       "\n",
       "  apellido_materno  almacen fecha_nacimiento                 fecha_alta avatar  \n",
       "0            Pérez        0       1987-05-01 2023-11-13 22:40:42.025832    lic  "
      ]
     },
     "execution_count": 4,
     "metadata": {},
     "output_type": "execute_result"
    }
   ],
   "source": [
    "engine = create_engine(dbURL)\n",
    "\n",
    "query1 = \"\"\" SELECT * FROM usuarios \"\"\"\n",
    "query2 = \"\"\" SELECT * FROM usuarios WHERE usuario = 'Lic' \"\"\"\n",
    "\n",
    "with engine.connect() as conn, conn.begin():\n",
    "    data = pd.read_sql(query2, conn)\n",
    "\n",
    "data"
   ]
  },
  {
   "cell_type": "code",
   "execution_count": null,
   "metadata": {},
   "outputs": [],
   "source": [
    "with engine.connect() as conn, conn.begin():  \n",
    "    data = pd.read_sql_table('usuarios', conn)\n",
    "\n",
    "data"
   ]
  },
  {
   "cell_type": "code",
   "execution_count": 9,
   "metadata": {},
   "outputs": [],
   "source": [
    "archivo_excel = './datos.xlsx'\n",
    "\n",
    "db_file = 'wep.db'\n",
    "SQLALCHEMY_DATABASE_URL = f\"sqlite:///./{db_file}\"\n",
    "engine = create_engine( SQLALCHEMY_DATABASE_URL, connect_args={\"check_same_thread\": False} )\n",
    "    \n",
    "df = pd.read_excel(archivo_excel, 'usuarios')\n",
    "\n",
    "with engine.connect() as conn, conn.begin():  \n",
    "    df.to_sql(name = 'wep', con = conn, if_exists = 'replace')\n"
   ]
  },
  {
   "cell_type": "code",
   "execution_count": 6,
   "metadata": {},
   "outputs": [],
   "source": [
    "archivo_excel = './datos.xlsx'\n",
    "\n",
    "db_file = 'wep.db'\n",
    "SQLALCHEMY_DATABASE_URL = f\"sqlite:///./{db_file}\"\n",
    "\n",
    "def wep():\n",
    "    \n",
    "    df = pd.read_excel(archivo_excel, 'usuarios')\n",
    "\n",
    "    try:\n",
    "        engine = create_engine( SQLALCHEMY_DATABASE_URL, connect_args={\"check_same_thread\": False} )\n",
    "        df.to_sql(name = 'wep', con = engine.connect(), if_exists = 'replace')\n",
    "\n",
    "    except Exception as err:\n",
    "        print('\\n>>> ¡Hubo un error con la conexión!:')\n",
    "        print(err)\n",
    "\n",
    "    finally:\n",
    "        engine.dispose()\n",
    "\n",
    "\n",
    "df = wep()\n",
    "df"
   ]
  }
 ],
 "metadata": {
  "kernelspec": {
   "display_name": "env_prueba_iacele",
   "language": "python",
   "name": "python3"
  },
  "language_info": {
   "codemirror_mode": {
    "name": "ipython",
    "version": 3
   },
   "file_extension": ".py",
   "mimetype": "text/x-python",
   "name": "python",
   "nbconvert_exporter": "python",
   "pygments_lexer": "ipython3",
   "version": "3.11.5"
  },
  "orig_nbformat": 4
 },
 "nbformat": 4,
 "nbformat_minor": 2
}
